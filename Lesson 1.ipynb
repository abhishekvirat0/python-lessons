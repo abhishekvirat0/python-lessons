{
 "cells": [
  {
   "cell_type": "markdown",
   "metadata": {},
   "source": [
    "# Welcome! 🎉"
   ]
  },
  {
   "cell_type": "markdown",
   "metadata": {},
   "source": [
    "Jupyter Notebooks are an interactive, browser-based way to write and share Python code.\n",
    "\n",
    "They're made up of two kinds of cells: Code and Markdown. This cell is a Markdown cell. (Markdown is another language that's used to format writing on the web. [Here's a syntax guide](https://www.markdownguide.org/basic-syntax/).)"
   ]
  },
  {
   "cell_type": "code",
   "execution_count": 2,
   "metadata": {},
   "outputs": [
    {
     "name": "stdout",
     "output_type": "stream",
     "text": [
      "hello world\n"
     ]
    }
   ],
   "source": [
    "# This is a code cell\n",
    "print('hello world')"
   ]
  },
  {
   "cell_type": "markdown",
   "metadata": {},
   "source": [
    "## Some Jupyter Basics\n",
    "- Command mode (blue) vs edit mode (green)\n",
    "- Go through the top bar of commands"
   ]
  },
  {
   "cell_type": "markdown",
   "metadata": {},
   "source": [
    "## The `print` statement"
   ]
  },
  {
   "cell_type": "code",
   "execution_count": 2,
   "metadata": {},
   "outputs": [],
   "source": [
    "# Write some code to print your name"
   ]
  },
  {
   "cell_type": "markdown",
   "metadata": {},
   "source": [
    "## Variables\n",
    "\n",
    "A variable is a place to store information in a program. You can think of it as a box, which has a label and a value inside.\n",
    "\n",
    "You can create a new variable like this:\n",
    "`variable_name = value`"
   ]
  },
  {
   "cell_type": "markdown",
   "metadata": {},
   "source": [
    "### Some types of variables in Python:\n",
    "- `int`: integer value (no decimal point)\n",
    "\n",
    "`age = 30`\n",
    "\n",
    "- `float`: real number value (has decimal point)\n",
    "\n",
    "`height = 60.2`\n",
    "\n",
    "- `string`: text characters (between single or double quotes)\n",
    "\n",
    "`name = \"Michelle\"`\n",
    "\n",
    "- `bool`: logical values (`True`/`False`)\n",
    "\n",
    "`hungry = True`\n",
    "\n",
    "You can get a variable's type like this: `type(variable)`"
   ]
  },
  {
   "cell_type": "markdown",
   "metadata": {},
   "source": [
    "### Practice with variables\n",
    "Create a variable of each type. Print it, along with its type.\n",
    "\n",
    "Bonus: Experiment with adding variables together"
   ]
  },
  {
   "cell_type": "code",
   "execution_count": 1,
   "metadata": {},
   "outputs": [],
   "source": [
    "# your code goes here"
   ]
  },
  {
   "cell_type": "markdown",
   "metadata": {},
   "source": [
    "### On variable names:\n",
    "- Variable names should only contain letters, digits, or underscores (no punctuation)\n",
    "- Python is case sensitive (`variable` is different than `Variable`)\n",
    "- Variable names should be **descriptive** and in **snake_case**"
   ]
  },
  {
   "cell_type": "markdown",
   "metadata": {},
   "source": [
    "### Task: Write a program that takes in two numbers and prints a message\n",
    "\n",
    "Your goal is to have it print \"The total is _\" with the sum of the two numbers the user entered."
   ]
  },
  {
   "cell_type": "code",
   "execution_count": null,
   "metadata": {},
   "outputs": [],
   "source": [
    "num1 = input(\"Enter first number: \")\n",
    "num2 = input(\"Enter second number: \")\n",
    "\n",
    "# your code goes here"
   ]
  }
 ],
 "metadata": {
  "kernelspec": {
   "display_name": "Python 3",
   "language": "python",
   "name": "python3"
  },
  "language_info": {
   "codemirror_mode": {
    "name": "ipython",
    "version": 3
   },
   "file_extension": ".py",
   "mimetype": "text/x-python",
   "name": "python",
   "nbconvert_exporter": "python",
   "pygments_lexer": "ipython3",
   "version": "3.8.2"
  }
 },
 "nbformat": 4,
 "nbformat_minor": 4
}
