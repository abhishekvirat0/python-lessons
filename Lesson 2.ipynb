{
 "cells": [
  {
   "cell_type": "markdown",
   "metadata": {},
   "source": [
    "## Lists\n",
    "\n",
    "A list is another type of data in Python. It's exactly what it sounds like! Lists can hold ints, strings, bools, etc."
   ]
  },
  {
   "cell_type": "code",
   "execution_count": 1,
   "metadata": {},
   "outputs": [
    {
     "name": "stdout",
     "output_type": "stream",
     "text": [
      "[1, 2, 3, 4]\n"
     ]
    }
   ],
   "source": [
    "my_list = [1,2,3,4]\n",
    "print(my_list)"
   ]
  },
  {
   "cell_type": "markdown",
   "metadata": {},
   "source": [
    "### (Some) List operations"
   ]
  },
  {
   "cell_type": "code",
   "execution_count": 48,
   "metadata": {},
   "outputs": [
    {
     "name": "stdout",
     "output_type": "stream",
     "text": [
      "4\n",
      "99\n",
      "[4, -2, 99]\n",
      "[4, -2, 99, 44, 3]\n",
      "[7, 25, 4, -2]\n",
      "7\n",
      "[7, 25, 4, -2, 99, 44, 3, 100]\n",
      "[7, 50, 25, 4, -2, 99, 44, 3, 100]\n",
      "[7, 50, 25, 4, -2, 99, 44, 100]\n",
      "[]\n"
     ]
    }
   ],
   "source": [
    "my_list = [7, 25, 4, -2, 99, 44, 3]\n",
    "\n",
    "### Accessing values\n",
    "print(my_list[2]) # the first element is index 0\n",
    "print(my_list[-3]) # starts at the end\n",
    "print(my_list[2:5]) # starts at 2 (included), ends at 5 (excluded)\n",
    "print(my_list[2:]) # starts at 2, goes to the end\n",
    "print(my_list[:4]) # starts at the beginning, ends at 4 (excluded)\n",
    "\n",
    "### Getting the length\n",
    "print(len(my_list))\n",
    "\n",
    "### Changing the list\n",
    "my_list.append(100) # adds it to the end\n",
    "print(my_list)\n",
    "\n",
    "my_list.insert(1, 50) # adds it at index 1\n",
    "print(my_list)\n",
    "\n",
    "my_list.remove(3) # remove a specific item\n",
    "print(my_list)\n",
    "my_list.clear() # empties the list\n",
    "print(my_list)"
   ]
  },
  {
   "cell_type": "markdown",
   "metadata": {},
   "source": [
    "### Practice with lists"
   ]
  },
  {
   "cell_type": "code",
   "execution_count": 46,
   "metadata": {},
   "outputs": [
    {
     "name": "stdout",
     "output_type": "stream",
     "text": [
      "['Alice', 'Cathy', 'Chris', 'Estelle', 'Jo', 'Kristina', 'Michelle', 'Montse', 'Tanya', 'a', 'b', 'c']\n"
     ]
    }
   ],
   "source": [
    "ycdac_team = [\"Alice\", \"Cathy\", \"Chris\", \"Estelle\", \"Jo\", \"Kristina\", \"Michelle\", \"Montse\", \"Tanya\"]\n",
    "\n",
    "# print the last element of the list\n",
    "# print the first 4 elements of the list\n",
    "# print the length of the list\n",
    "\n",
    "# add 3 new elements to the end of the list (and print it)\n",
    "# remove an element from the list (and print it)\n",
    "# add the element back in the same spot (and print it)"
   ]
  },
  {
   "cell_type": "markdown",
   "metadata": {},
   "source": [
    "## `for` loops\n",
    "\n",
    "`for` loops are a tool for doing a task (or a set of tasks) repeatedly. We can use them to iterate over a list."
   ]
  },
  {
   "cell_type": "code",
   "execution_count": 3,
   "metadata": {},
   "outputs": [
    {
     "name": "stdout",
     "output_type": "stream",
     "text": [
      "hi!\n",
      "hi!\n",
      "hi!\n",
      "hi!\n",
      "hi!\n"
     ]
    }
   ],
   "source": [
    "for x in range(5):\n",
    "    print('hi!')"
   ]
  },
  {
   "cell_type": "code",
   "execution_count": 4,
   "metadata": {},
   "outputs": [
    {
     "name": "stdout",
     "output_type": "stream",
     "text": [
      "0\n",
      "1\n",
      "2\n",
      "3\n",
      "4\n"
     ]
    }
   ],
   "source": [
    "for x in range(5):\n",
    "    print(x)"
   ]
  },
  {
   "cell_type": "code",
   "execution_count": 6,
   "metadata": {},
   "outputs": [
    {
     "name": "stdout",
     "output_type": "stream",
     "text": [
      "chocolate\n",
      "vanilla\n",
      "cookies & cream\n",
      "fudge brownie\n",
      "mint chocolate chip\n"
     ]
    }
   ],
   "source": [
    "my_list = [\"chocolate\", \"vanilla\", \"cookies & cream\", \"fudge brownie\", \"mint chocolate chip\"]\n",
    "\n",
    "# print(my_list[0])\n",
    "# print(my_list[1])\n",
    "# print(my_list[2])\n",
    "# print(my_list[3])\n",
    "# print(my_list[4])\n",
    "\n",
    "for x in range(len(my_list)):\n",
    "    print(my_list[x])"
   ]
  },
  {
   "cell_type": "markdown",
   "metadata": {},
   "source": [
    "### Task:\n",
    "1. Make a list with some numbers in it (`int` or `float`). \n",
    "2. Loop over your list, and at the end, print the total sum of the elements in it. \n",
    "\n",
    "Bonus: print some other interesting stats about your list!"
   ]
  },
  {
   "cell_type": "code",
   "execution_count": 10,
   "metadata": {},
   "outputs": [
    {
     "name": "stdout",
     "output_type": "stream",
     "text": [
      "The total is 6\n"
     ]
    }
   ],
   "source": [
    "# your code goes here\n",
    "my_list = [1, 2, 3]\n",
    "total = 0\n",
    "for x in range(len(my_list)):\n",
    "    total = total + my_list[x]\n",
    "print('The total is', total)"
   ]
  }
 ],
 "metadata": {
  "kernelspec": {
   "display_name": "Python 3",
   "language": "python",
   "name": "python3"
  },
  "language_info": {
   "codemirror_mode": {
    "name": "ipython",
    "version": 3
   },
   "file_extension": ".py",
   "mimetype": "text/x-python",
   "name": "python",
   "nbconvert_exporter": "python",
   "pygments_lexer": "ipython3",
   "version": "3.8.2"
  }
 },
 "nbformat": 4,
 "nbformat_minor": 4
}
