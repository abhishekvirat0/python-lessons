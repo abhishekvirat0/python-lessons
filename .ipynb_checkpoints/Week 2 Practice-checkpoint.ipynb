{
 "cells": [
  {
   "cell_type": "markdown",
   "metadata": {},
   "source": [
    "## List practice"
   ]
  },
  {
   "cell_type": "code",
   "execution_count": 21,
   "metadata": {},
   "outputs": [],
   "source": [
    "best_picture_winners = ['The King\\'s Speech', 'The Artist', 'Argo', '12 Years a Slave', 'Birdman', 'Spotlight', 'La La Land', 'The Shape of Water', 'Green Book', 'Parasite']"
   ]
  },
  {
   "cell_type": "markdown",
   "metadata": {},
   "source": [
    "How many items are in the list `best_picture_winners`?"
   ]
  },
  {
   "cell_type": "code",
   "execution_count": 18,
   "metadata": {},
   "outputs": [],
   "source": [
    "# your code goes here"
   ]
  },
  {
   "cell_type": "markdown",
   "metadata": {},
   "source": [
    "What's the third item in the list?"
   ]
  },
  {
   "cell_type": "code",
   "execution_count": null,
   "metadata": {},
   "outputs": [],
   "source": [
    "# your code goes here"
   ]
  },
  {
   "cell_type": "markdown",
   "metadata": {},
   "source": [
    "What's the penultimate item in the list? (remember you can use a negative index!)"
   ]
  },
  {
   "cell_type": "code",
   "execution_count": null,
   "metadata": {},
   "outputs": [],
   "source": [
    "# your code goes here"
   ]
  },
  {
   "cell_type": "markdown",
   "metadata": {},
   "source": [
    "These are the winners from 2010-2019. Add 'Slumdog Millionaire' (2008) and 'The Hurt Locker' (2009) to the beginning of the list.\n",
    "\n",
    "2 ways to add to the beginning of a list:\n",
    "1. `my_list.insert(index, new_item)`\n",
    "2. `my_list = [new_item] + my_list`  \n",
    "Note: `new_item` must be in a list, lists can only be concatenated to other lists. You can include multiple things in this list to add multiple items."
   ]
  },
  {
   "cell_type": "code",
   "execution_count": 20,
   "metadata": {},
   "outputs": [],
   "source": [
    "# your code goes here"
   ]
  },
  {
   "cell_type": "markdown",
   "metadata": {},
   "source": [
    "Whoops, I made [a mistake](https://www.youtube.com/watch?v=8KeOxeuiZjs)! Moonlight won best picture in 2016! Remove 'La La Land' and insert 'Moonlight' in its place."
   ]
  },
  {
   "cell_type": "code",
   "execution_count": 6,
   "metadata": {},
   "outputs": [],
   "source": [
    "# your code goes here"
   ]
  },
  {
   "cell_type": "markdown",
   "metadata": {},
   "source": [
    "## `for` loops recap"
   ]
  },
  {
   "cell_type": "markdown",
   "metadata": {},
   "source": [
    "For loops are a tool for doing a task (or set of tasks) repeatedly. They have a variable embedded inside them (in the case below, `x`) which starts at 0 and increases by 1 every time the loop is run. The number you put in the parentheses is how many times the loop will run (in this case, 5)."
   ]
  },
  {
   "cell_type": "code",
   "execution_count": 10,
   "metadata": {},
   "outputs": [
    {
     "name": "stdout",
     "output_type": "stream",
     "text": [
      "whatever is in here will happen repeatedly\n",
      "0\n",
      "whatever is in here will happen repeatedly\n",
      "1\n",
      "whatever is in here will happen repeatedly\n",
      "2\n",
      "whatever is in here will happen repeatedly\n",
      "3\n",
      "whatever is in here will happen repeatedly\n",
      "4\n",
      "finished! this will just happen once because it's not in the loop\n"
     ]
    }
   ],
   "source": [
    "for x in range(5):\n",
    "    print('whatever is in here will happen repeatedly.')\n",
    "    print(x)\n",
    "    \n",
    "print('finished! this will just happen once because it\\'s not inside the loop')"
   ]
  },
  {
   "cell_type": "markdown",
   "metadata": {},
   "source": [
    "We can use that variable `x` to index into a list and access each element, one at a time."
   ]
  },
  {
   "cell_type": "code",
   "execution_count": 9,
   "metadata": {},
   "outputs": [
    {
     "name": "stdout",
     "output_type": "stream",
     "text": [
      "1263\n",
      "3457\n",
      "23\n",
      "426\n",
      "45\n",
      "457\n",
      "42\n",
      "235\n",
      "26\n",
      "88\n",
      "53\n",
      "136\n",
      "468\n",
      "22\n",
      "1\n",
      "347\n",
      "2577\n",
      "24245\n",
      "23553\n",
      "2362\n",
      "24\n",
      "664\n",
      "743\n",
      "100\n"
     ]
    }
   ],
   "source": [
    "long_list = [1263, 3457, 23, 426, 45, 457, 42, 235, 26, 88, 53, 136, 468, 22, 1, 347, 2577, 24245, 23553, 2362, 24, 664, 743, 100]\n",
    "\n",
    "# to print every element, you could do this...\n",
    "# print(long_list[0])\n",
    "# print(long_list[1])\n",
    "# print(long_list[2])\n",
    "# ... that's a lot of code\n",
    "\n",
    "# or you could do it in 2 lines with a for loop!\n",
    "for x in range(len(long_list)):\n",
    "    print(long_list[x])"
   ]
  },
  {
   "cell_type": "markdown",
   "metadata": {},
   "source": [
    "## `for` loop practice"
   ]
  },
  {
   "cell_type": "markdown",
   "metadata": {},
   "source": [
    "Use a for loop to print these lyrics from 'Let it Be' by The Beatles. Don't just print every single line - your program should be no longer than 4 lines long.\n",
    "\n",
    "```\n",
    "Let it be\n",
    "Let it be\n",
    "Let it be\n",
    "Let it be\n",
    "Whisper words of wisdom\n",
    "Let it be\n",
    "```"
   ]
  },
  {
   "cell_type": "code",
   "execution_count": 35,
   "metadata": {},
   "outputs": [],
   "source": [
    "# your code goes here"
   ]
  },
  {
   "cell_type": "markdown",
   "metadata": {},
   "source": [
    "Use a for loop to print a countdown. Again, don't just print it all out manually - your program should use no more than 2 `print` statements. The output should look like this:\n",
    "```\n",
    "10\n",
    "9\n",
    "8\n",
    "7\n",
    "6\n",
    "5\n",
    "4\n",
    "3\n",
    "2\n",
    "1\n",
    "Blast off!\n",
    "```"
   ]
  },
  {
   "cell_type": "code",
   "execution_count": 38,
   "metadata": {},
   "outputs": [],
   "source": [
    "# your code goes here"
   ]
  },
  {
   "cell_type": "markdown",
   "metadata": {},
   "source": [
    "Print out each Best Picture winner along with the year it won. The list contains winners from 2010 to 2019. It should look something like this:\n",
    "```\n",
    "2010\n",
    "The King's Speech\n",
    "2011\n",
    "The Artist\n",
    "2012\n",
    "Argo\n",
    "2013\n",
    "12 Years a Slave\n",
    "2014\n",
    "Birdman\n",
    "2015\n",
    "Spotlight\n",
    "2016\n",
    "Moonlight\n",
    "2017\n",
    "The Shape of Water\n",
    "2018\n",
    "Green Book\n",
    "2019\n",
    "Parasite\n",
    "```"
   ]
  },
  {
   "cell_type": "code",
   "execution_count": 27,
   "metadata": {},
   "outputs": [],
   "source": [
    "best_picture_winners = ['The King\\'s Speech', 'The Artist', 'Argo', '12 Years a Slave', 'Birdman', 'Spotlight', 'Moonlight', 'The Shape of Water', 'Green Book', 'Parasite']\n",
    "# your code goes here"
   ]
  },
  {
   "cell_type": "markdown",
   "metadata": {},
   "source": [
    "Write a program that creates a list of numbers, loops over each element, and then prints out the total sum (which we saw in Lesson 2) and the mean.\n",
    "\n",
    "For example, if my list was `[1, 2, 3, 4]`, the program should print:\n",
    "```\n",
    "The sum is 10\n",
    "The mean is 2.5\n",
    "```"
   ]
  },
  {
   "cell_type": "code",
   "execution_count": null,
   "metadata": {},
   "outputs": [],
   "source": [
    "# your code goes here"
   ]
  },
  {
   "cell_type": "markdown",
   "metadata": {},
   "source": [
    "# That's it! 🎉"
   ]
  }
 ],
 "metadata": {
  "kernelspec": {
   "display_name": "Python 3",
   "language": "python",
   "name": "python3"
  },
  "language_info": {
   "codemirror_mode": {
    "name": "ipython",
    "version": 3
   },
   "file_extension": ".py",
   "mimetype": "text/x-python",
   "name": "python",
   "nbconvert_exporter": "python",
   "pygments_lexer": "ipython3",
   "version": "3.8.2"
  }
 },
 "nbformat": 4,
 "nbformat_minor": 4
}
