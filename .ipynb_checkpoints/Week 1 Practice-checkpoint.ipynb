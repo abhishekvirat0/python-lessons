{
 "cells": [
  {
   "cell_type": "markdown",
   "metadata": {},
   "source": [
    "# Jupyter"
   ]
  },
  {
   "cell_type": "markdown",
   "metadata": {},
   "source": [
    "**Recap:**\n",
    "- There are 2 main types of cells: Markdown and Code\n",
    "- To run a cell, select it and press Shift + Enter\n",
    "    - You also need to run Markdown cells for them to render their text\n",
    "- Add a cell with the '+' in the top left of the screen"
   ]
  },
  {
   "cell_type": "markdown",
   "metadata": {},
   "source": [
    "# Variables"
   ]
  },
  {
   "cell_type": "markdown",
   "metadata": {},
   "source": [
    "**Recap:**\n",
    "- Variables store information in your program\n",
    "- A variable has a name and a value\n",
    "- We talked about the following types of variables:\n",
    "    - `int` (integer value, no decimal)\n",
    "    - `float` (decimal)\n",
    "    - `string` (text characters, between quotes)\n",
    "    - `bool` (logical value, True or False)\n",
    "\n",
    "- Type matters!\n",
    "    - When you add two strings together, it concatenates them (\"a\" + \"b\" = \"ab\")\n",
    "    - When you add two ints or floats together, it adds them normally (3 + 4.2 = 7.2)\n",
    "- To get a variable's type: `type(varible)`\n",
    "- To change a variable's type: `int(variable)` or `str(variable)` or `float(variable)`"
   ]
  },
  {
   "cell_type": "markdown",
   "metadata": {},
   "source": [
    "# Some new exercises to try!"
   ]
  },
  {
   "cell_type": "markdown",
   "metadata": {},
   "source": [
    "1. Write a program that accepts the user's first name and last name and then prints: `The name's [last name]. [first name] [last name]`\n",
    "\n",
    "Ex: `The name's Bond. James Bond.`\n",
    "\n",
    "Watch the spaces... if you print by passing the `print` function multiple things (`print('a', 'b', 'c')`) it will automatically separate them each with a space. Remember you can also combine/concatenate strings together using `+`."
   ]
  },
  {
   "cell_type": "code",
   "execution_count": 6,
   "metadata": {},
   "outputs": [
    {
     "name": "stdout",
     "output_type": "stream",
     "text": [
      "First name: Michelle\n"
     ]
    }
   ],
   "source": [
    "first_name = input(\"First name: \")\n",
    "# your code goes here"
   ]
  },
  {
   "cell_type": "markdown",
   "metadata": {},
   "source": [
    "2. Write a program that accepts a temperature in Celsius, converts it to Fahrenheit, and prints it. (°C × 9/5) + 32 = °F"
   ]
  },
  {
   "cell_type": "code",
   "execution_count": 3,
   "metadata": {},
   "outputs": [],
   "source": [
    "# your code goes here (if you don't remember how to get input, look at #1)"
   ]
  },
  {
   "cell_type": "markdown",
   "metadata": {},
   "source": [
    "3. This program accepts a name and a favorite color and prints out a message. Your task is to **swap** the values of `name` and `color` right before it gets to the `print` statement. 😈 Make sure you don't lose either value (you shouldn't re-ask for the user's input). It should end up printing something like `My name is blue and I like the color Michelle`"
   ]
  },
  {
   "cell_type": "code",
   "execution_count": 7,
   "metadata": {},
   "outputs": [
    {
     "name": "stdout",
     "output_type": "stream",
     "text": [
      "Your name: Michelle\n",
      "Your favorite color: blue\n",
      "My name is Michelle and I like the color blue\n"
     ]
    }
   ],
   "source": [
    "name = input(\"Your name: \")\n",
    "color = input(\"Your favorite color: \")\n",
    "\n",
    "# your code goes here\n",
    "\n",
    "print(\"My name is\", name, \"and I like the color\", color)"
   ]
  }
 ],
 "metadata": {
  "kernelspec": {
   "display_name": "Python 3",
   "language": "python",
   "name": "python3"
  },
  "language_info": {
   "codemirror_mode": {
    "name": "ipython",
    "version": 3
   },
   "file_extension": ".py",
   "mimetype": "text/x-python",
   "name": "python",
   "nbconvert_exporter": "python",
   "pygments_lexer": "ipython3",
   "version": "3.8.2"
  }
 },
 "nbformat": 4,
 "nbformat_minor": 4
}
