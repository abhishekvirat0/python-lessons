{
  "nbformat": 4,
  "nbformat_minor": 0,
  "metadata": {
    "colab": {
      "name": "Lesson 3.ipynb",
      "provenance": [],
      "collapsed_sections": []
    },
    "kernelspec": {
      "name": "python3",
      "display_name": "Python 3"
    }
  },
  "cells": [
    {
      "cell_type": "markdown",
      "metadata": {
        "id": "AJhBr3sKS51t",
        "colab_type": "text"
      },
      "source": [
        "# Manipulating data with Pandas! 🐼\n",
        "\n",
        "([You can download the dataset here](https://www.kaggle.com/c/titanic/data).\n",
        "[Here's a tutorial article](https://towardsdatascience.com/getting-started-to-data-analysis-with-python-pandas-with-titanic-dataset-a195ab043c77) where a lot of this came from.)\n",
        "\n",
        "\n",
        "Pandas is a popular Python library. A **library** is a collection of functions that someone else wrote, packaged up, and lets other people import and use.\n",
        "\n",
        "The primary two components of pandas are the `Series` and `DataFrame`.\n",
        "\n",
        "A `Series` is essentially a column, and a `DataFrame` is a multi-dimensional table made up of a collection of `Series`.\n",
        "\n",
        "\n",
        "![alt text](https://storage.googleapis.com/lds-media/images/series-and-dataframe.width-1200.png)"
      ]
    },
    {
      "cell_type": "code",
      "metadata": {
        "id": "6oOH0k6hGvE2",
        "colab_type": "code",
        "colab": {}
      },
      "source": [
        "# We need this line to access the pandas functions\n",
        "import pandas as pd\n",
        "\n",
        "titanic = pd.read_csv(\"https://gist.githubusercontent.com/mmcghee18/b5ed9190e773d2e75b4bc3363f012866/raw/430bebedc223e4371770aa4f9b45eea8ae9474dd/titanic.csv\")"
      ],
      "execution_count": 0,
      "outputs": []
    },
    {
      "cell_type": "markdown",
      "metadata": {
        "id": "0JVlvHZNmViH",
        "colab_type": "text"
      },
      "source": [
        "# Getting info about your data\n",
        "\n",
        "Try these out:\n",
        "* `titanic.head()`\n",
        "* `titanic.tail()`\n",
        "* `titanic.shape`\n",
        "* `titanic.info()`\n",
        "* `titanic.describe()`"
      ]
    },
    {
      "cell_type": "code",
      "metadata": {
        "id": "T4lQTd5dmfn8",
        "colab_type": "code",
        "colab": {
          "base_uri": "https://localhost:8080/",
          "height": 153
        },
        "outputId": "60424144-ada3-4e57-89c9-af7ffc15679d"
      },
      "source": [
        "# your code goes here\n",
        "print(titanic.head())"
      ],
      "execution_count": 23,
      "outputs": [
        {
          "output_type": "stream",
          "text": [
            "   PassengerId  Survived  Pclass  ...     Fare Cabin  Embarked\n",
            "0            1         0       3  ...   7.2500   NaN         S\n",
            "1            2         1       1  ...  71.2833   C85         C\n",
            "2            3         1       3  ...   7.9250   NaN         S\n",
            "3            4         1       1  ...  53.1000  C123         S\n",
            "4            5         0       3  ...   8.0500   NaN         S\n",
            "\n",
            "[5 rows x 12 columns]\n"
          ],
          "name": "stdout"
        }
      ]
    },
    {
      "cell_type": "markdown",
      "metadata": {
        "id": "zuJusHeJXgZF",
        "colab_type": "text"
      },
      "source": [
        "## Accessing data\n",
        "\n",
        "Get a column: `dataframe['column_name'])`\n",
        "\n",
        "Get multiple columns: `dataframe[[name1', 'name2']]`\n",
        "\n",
        "Get a row: \n",
        "* `dataframe.loc[1]` - **loc**ates by row name\n",
        "* `dataframe.iloc[1]` - **loc**ates by numerican **i**ndex\n",
        "\n",
        "Get a range of rows: \n",
        "- `dataframe[0:5]` (doesn't include the end index)\n",
        "- `dataframe.loc[0:5]` - by row name\n",
        "- `dataframe.iloc[0:5]` - by numerical index\n",
        "- Fun fact: `loc` and `iloc` DO include the end index in their range"
      ]
    },
    {
      "cell_type": "code",
      "metadata": {
        "id": "nuU45k-GW11i",
        "colab_type": "code",
        "colab": {
          "base_uri": "https://localhost:8080/",
          "height": 85
        },
        "outputId": "6ebde59f-f124-420c-e04c-ce0edc37fb31"
      },
      "source": [
        "import pandas as pd\n",
        "\n",
        "titanic = pd.read_csv(\"https://gist.githubusercontent.com/mmcghee18/b5ed9190e773d2e75b4bc3363f012866/raw/430bebedc223e4371770aa4f9b45eea8ae9474dd/titanic.csv\")\n",
        "\n",
        "# Print a column\n",
        "# Print multiple columns\n",
        "# Print the 3rd row (index 4!)\n",
        "# Print the row for the passenger named 'Skoog, Miss. Margit Elizabeth'"
      ],
      "execution_count": 28,
      "outputs": [
        {
          "output_type": "stream",
          "text": [
            "     PassengerId  Survived  Pclass  ...  Fare Cabin  Embarked\n",
            "642          643         0       3  ...  27.9   NaN         S\n",
            "\n",
            "[1 rows x 12 columns]\n"
          ],
          "name": "stdout"
        }
      ]
    },
    {
      "cell_type": "markdown",
      "metadata": {
        "id": "8cQGVQZ2r_zF",
        "colab_type": "text"
      },
      "source": [
        "### Conditional selections:\n",
        "\n",
        "How would we filter our data frame to show only people in first class or only people that paid below a certain fare?\n",
        "\n",
        "We can take a column and apply a Boolean condition to it, something that's true or false. Here's an example:\n",
        "\n",
        "`titanic[titanic['Fare'] < 50]]`\n",
        "\n",
        "You can read that as: Select rows where the fare column is less than 50."
      ]
    },
    {
      "cell_type": "code",
      "metadata": {
        "id": "bc6Xf1n8q5L7",
        "colab_type": "code",
        "colab": {}
      },
      "source": [
        "# Print some conditional selections!"
      ],
      "execution_count": 0,
      "outputs": []
    }
  ]
}