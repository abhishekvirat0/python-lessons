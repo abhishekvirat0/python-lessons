{
 "cells": [
  {
   "cell_type": "markdown",
   "metadata": {},
   "source": [
    "# Welcome! 🎉"
   ]
  },
  {
   "cell_type": "markdown",
   "metadata": {},
   "source": [
    "Jupyter Notebooks are an interactive, browser-based way to write and share Python code.\n",
    "\n",
    "They're made up of two kinds of cells: Code and Markdown. This cell is a Markdown cell. (Markdown is another language that's used to format writing on the web. [Here's a syntax guide](https://www.markdownguide.org/basic-syntax/).)"
   ]
  },
  {
   "cell_type": "code",
   "execution_count": 2,
   "metadata": {},
   "outputs": [
    {
     "name": "stdout",
     "output_type": "stream",
     "text": [
      "hello world\n"
     ]
    }
   ],
   "source": [
    "# This is a code cell\n",
    "print('hello world')"
   ]
  },
  {
   "cell_type": "markdown",
   "metadata": {},
   "source": [
    "## Some Jupyter Basics\n",
    "- Command mode (blue) vs edit mode (green)\n",
    "- Go through the top bar of commands"
   ]
  },
  {
   "cell_type": "markdown",
   "metadata": {},
   "source": [
    "## The `print` statement"
   ]
  },
  {
   "cell_type": "code",
   "execution_count": 1,
   "metadata": {},
   "outputs": [
    {
     "name": "stdout",
     "output_type": "stream",
     "text": [
      "Michelle is awesome!\n"
     ]
    }
   ],
   "source": [
    "# Write some code to print your name\n",
    "print('Michelle is awesome!')"
   ]
  },
  {
   "cell_type": "markdown",
   "metadata": {},
   "source": [
    "## Variables\n",
    "\n",
    "A variable is a place to store information in a program. You can think of it as a box, which has a label and a value inside.\n",
    "\n",
    "You can create a new variable like this:\n",
    "`variable_name = value`"
   ]
  },
  {
   "cell_type": "markdown",
   "metadata": {},
   "source": [
    "### Some types of variables in Python:\n",
    "- `int`: integer value (no decimal point)\n",
    "\n",
    "`age = 30`\n",
    "\n",
    "- `float`: real number value (has decimal point)\n",
    "\n",
    "`height = 60.2`\n",
    "\n",
    "- `string`: text characters (between single or double quotes)\n",
    "\n",
    "`name = \"Michelle\"`\n",
    "\n",
    "- `bool`: logical values (`True`/`False`)\n",
    "\n",
    "`hungry = True`\n",
    "\n",
    "You can get a variable's type like this: `type(variable)`"
   ]
  },
  {
   "cell_type": "markdown",
   "metadata": {},
   "source": [
    "### Practice with variables\n",
    "Create a variable of each type. Print it, along with its type.\n",
    "\n",
    "Bonus: Experiment with adding variables together"
   ]
  },
  {
   "cell_type": "code",
   "execution_count": 2,
   "metadata": {},
   "outputs": [
    {
     "name": "stdout",
     "output_type": "stream",
     "text": [
      "7\n"
     ]
    }
   ],
   "source": [
    "# your code goes here\n",
    "\n",
    "num1 = \"3\"\n",
    "int_num1 = int(num1)\n",
    "num2 = \"4\"\n",
    "int_num2 = int(num2)\n",
    "total = int_num1 + int_num2\n",
    "print(total)"
   ]
  },
  {
   "cell_type": "markdown",
   "metadata": {},
   "source": [
    "### On variable names:\n",
    "- Variable names should only contain letters, digits, or underscores (no punctuation)\n",
    "- Python is case sensitive (`variable` is different than `Variable`)\n",
    "- Variable names should be **descriptive** and in **snake_case**"
   ]
  },
  {
   "cell_type": "markdown",
   "metadata": {},
   "source": [
    "### Task: Write a program that takes in two numbers and prints a message\n",
    "\n",
    "Your goal is to have it print \"The total is _\" with the sum of the two numbers the user entered."
   ]
  },
  {
   "cell_type": "code",
   "execution_count": 4,
   "metadata": {},
   "outputs": [
    {
     "name": "stdout",
     "output_type": "stream",
     "text": [
      "Enter first number: 1\n",
      "Enter second number: 5\n",
      "The sum is 6.0\n"
     ]
    }
   ],
   "source": [
    "num1 = input(\"Enter first number: \")\n",
    "num2 = input(\"Enter second number: \")\n",
    "\n",
    "print('The sum is', float(num1) + float(num2))"
   ]
  },
  {
   "cell_type": "markdown",
   "metadata": {},
   "source": [
    "# 🛑 This is where we stopped for week 1!\n",
    "(We'll continue with the stuff below next week.)"
   ]
  },
  {
   "cell_type": "markdown",
   "metadata": {},
   "source": [
    "## Lists\n",
    "\n",
    "A list is another type of data in Python. It's exactly what it sounds like! Lists can hold ints, strings, bools, etc."
   ]
  },
  {
   "cell_type": "code",
   "execution_count": 2,
   "metadata": {},
   "outputs": [
    {
     "name": "stdout",
     "output_type": "stream",
     "text": [
      "[1, 2, 3, 4]\n"
     ]
    }
   ],
   "source": [
    "my_list = [1, 2, 3, 4]\n",
    "print(my_list)"
   ]
  },
  {
   "cell_type": "markdown",
   "metadata": {},
   "source": [
    "### (Some) List operations"
   ]
  },
  {
   "cell_type": "code",
   "execution_count": 16,
   "metadata": {},
   "outputs": [
    {
     "name": "stdout",
     "output_type": "stream",
     "text": [
      "4\n",
      "3\n",
      "[4, -2, 99]\n",
      "[4, -2, 99, 44, 3]\n",
      "[7, 25, 4, -2]\n",
      "7\n",
      "[7, 25, 4, -2, 99, 44, 3, 100]\n",
      "[7, 50, 25, 4, -2, 99, 44, 3, 100]\n",
      "[50, 25, 4, -2, 99, 44, 3, 100]\n",
      "[]\n"
     ]
    }
   ],
   "source": [
    "my_list = [7, 25, 4, -2, 99, 44, 3]\n",
    "\n",
    "### Accessing values\n",
    "print(my_list[2]) # the first element is index 0\n",
    "print(my_list[-1]) # starts at the end\n",
    "print(my_list[2:5]) # starts at 2 (included), ends at 5 (excluded)\n",
    "print(my_list[2:]) # starts at 2, goes to the end\n",
    "print(my_list[:4]) # starts at the beginning, ends at 4 (excluded)\n",
    "\n",
    "### Getting the length\n",
    "print(len(my_list))\n",
    "\n",
    "### Changing the list\n",
    "my_list.append(100) # adds it to the end\n",
    "print(my_list)\n",
    "my_list.insert(1, 50) # adds it at index 1\n",
    "print(my_list)\n",
    "my_list.remove(7) # remove a specific item\n",
    "print(my_list)\n",
    "my_list.clear() # empties the list\n",
    "print(my_list)"
   ]
  },
  {
   "cell_type": "markdown",
   "metadata": {},
   "source": [
    "### Practice with lists"
   ]
  },
  {
   "cell_type": "code",
   "execution_count": 1,
   "metadata": {},
   "outputs": [],
   "source": [
    "ycdac_team = [\"Alice\", \"Cathy\", \"Chris\", \"Estelle\", \"Jo\", \"Kristina\", \"Michelle\", \"Montse\", \"Tanya\"]\n",
    "\n",
    "# print the last element of the list\n",
    "# print the first 4 elements of the list\n",
    "# print the length of the list\n",
    "\n",
    "# add 3 new elements to the end of the list (and print it)\n",
    "# remove an element from the list (and print it)\n",
    "# add the element back in the same spot (and print it)"
   ]
  },
  {
   "cell_type": "markdown",
   "metadata": {},
   "source": [
    "## `for` loops\n",
    "\n",
    "`for` loops are a tool for doing a task (or a set of tasks) repeatedly. We can use them to iterate over a list."
   ]
  },
  {
   "cell_type": "code",
   "execution_count": 5,
   "metadata": {},
   "outputs": [
    {
     "name": "stdout",
     "output_type": "stream",
     "text": [
      "hi!\n",
      "hi!\n",
      "hi!\n",
      "hi!\n",
      "hi!\n"
     ]
    }
   ],
   "source": [
    "for x in range(5):\n",
    "    print('hi!')"
   ]
  },
  {
   "cell_type": "code",
   "execution_count": 6,
   "metadata": {},
   "outputs": [
    {
     "name": "stdout",
     "output_type": "stream",
     "text": [
      "0\n",
      "1\n",
      "2\n",
      "3\n",
      "4\n"
     ]
    }
   ],
   "source": [
    "for x in range(5):\n",
    "    print(x)"
   ]
  },
  {
   "cell_type": "code",
   "execution_count": 10,
   "metadata": {},
   "outputs": [
    {
     "name": "stdout",
     "output_type": "stream",
     "text": [
      "chocolate\n",
      "vanilla\n",
      "cookies & cream\n",
      "fudge brownie\n",
      "mint chocolate chip\n"
     ]
    }
   ],
   "source": [
    "my_list = [\"chocolate\", \"vanilla\", \"cookies & cream\", \"fudge brownie\", \"mint chocolate chip\"]\n",
    "for x in range(5):\n",
    "    print(my_list[x])"
   ]
  },
  {
   "cell_type": "markdown",
   "metadata": {},
   "source": [
    "### Task:\n",
    "1. Make a list with some numbers in it (`int` or `float`). \n",
    "2. Loop over your list, and at the end, print the total sum of the elements in it. \n",
    "\n",
    "Bonus: print some other interesting stats about your list!"
   ]
  },
  {
   "cell_type": "code",
   "execution_count": 11,
   "metadata": {},
   "outputs": [],
   "source": [
    "# your code goes here"
   ]
  }
 ],
 "metadata": {
  "kernelspec": {
   "display_name": "Python 3",
   "language": "python",
   "name": "python3"
  },
  "language_info": {
   "codemirror_mode": {
    "name": "ipython",
    "version": 3
   },
   "file_extension": ".py",
   "mimetype": "text/x-python",
   "name": "python",
   "nbconvert_exporter": "python",
   "pygments_lexer": "ipython3",
   "version": "3.8.2"
  }
 },
 "nbformat": 4,
 "nbformat_minor": 4
}
